{
 "cells": [
  {
   "cell_type": "code",
   "execution_count": 1,
   "metadata": {
    "collapsed": true
   },
   "outputs": [],
   "source": [
    "import pandas as pd\n",
    "import numpy as np"
   ]
  },
  {
   "cell_type": "code",
   "execution_count": 44,
   "metadata": {
    "collapsed": false
   },
   "outputs": [],
   "source": [
    "data = pd.read_csv('Weatherforecast.csv')"
   ]
  },
  {
   "cell_type": "code",
   "execution_count": 67,
   "metadata": {
    "collapsed": false
   },
   "outputs": [
    {
     "data": {
      "text/plain": [
       "801"
      ]
     },
     "execution_count": 67,
     "metadata": {},
     "output_type": "execute_result"
    }
   ],
   "source": [
    "data = data.replace([np.inf, -np.inf], np.nan)\n",
    "data = data.dropna(axis=0, how='any')\n",
    "len(data)"
   ]
  },
  {
   "cell_type": "code",
   "execution_count": 74,
   "metadata": {
    "collapsed": false
   },
   "outputs": [
    {
     "data": {
      "text/html": [
       "<div>\n",
       "<style>\n",
       "    .dataframe thead tr:only-child th {\n",
       "        text-align: right;\n",
       "    }\n",
       "\n",
       "    .dataframe thead th {\n",
       "        text-align: left;\n",
       "    }\n",
       "\n",
       "    .dataframe tbody tr th {\n",
       "        vertical-align: top;\n",
       "    }\n",
       "</style>\n",
       "<table border=\"1\" class=\"dataframe\">\n",
       "  <thead>\n",
       "    <tr style=\"text-align: right;\">\n",
       "      <th></th>\n",
       "      <th>latitude</th>\n",
       "      <th>longitude</th>\n",
       "      <th>maxtemp</th>\n",
       "      <th>mintemp</th>\n",
       "      <th>meantemp</th>\n",
       "      <th>totalrain</th>\n",
       "      <th>totalprecipitation</th>\n",
       "      <th>day</th>\n",
       "      <th>month</th>\n",
       "      <th>year</th>\n",
       "    </tr>\n",
       "  </thead>\n",
       "  <tbody>\n",
       "    <tr>\n",
       "      <th>0</th>\n",
       "      <td>43.68</td>\n",
       "      <td>-79.63</td>\n",
       "      <td>29.4</td>\n",
       "      <td>18.9</td>\n",
       "      <td>24.2</td>\n",
       "      <td>2.4</td>\n",
       "      <td>2.4</td>\n",
       "      <td>10</td>\n",
       "      <td>9</td>\n",
       "      <td>2016</td>\n",
       "    </tr>\n",
       "    <tr>\n",
       "      <th>1</th>\n",
       "      <td>43.68</td>\n",
       "      <td>-79.63</td>\n",
       "      <td>23.2</td>\n",
       "      <td>14.3</td>\n",
       "      <td>18.8</td>\n",
       "      <td>0.0</td>\n",
       "      <td>0.0</td>\n",
       "      <td>11</td>\n",
       "      <td>9</td>\n",
       "      <td>2016</td>\n",
       "    </tr>\n",
       "    <tr>\n",
       "      <th>2</th>\n",
       "      <td>43.68</td>\n",
       "      <td>-79.63</td>\n",
       "      <td>24.6</td>\n",
       "      <td>11.6</td>\n",
       "      <td>18.1</td>\n",
       "      <td>0.0</td>\n",
       "      <td>0.0</td>\n",
       "      <td>12</td>\n",
       "      <td>9</td>\n",
       "      <td>2016</td>\n",
       "    </tr>\n",
       "    <tr>\n",
       "      <th>3</th>\n",
       "      <td>43.68</td>\n",
       "      <td>-79.63</td>\n",
       "      <td>28.1</td>\n",
       "      <td>14.5</td>\n",
       "      <td>21.3</td>\n",
       "      <td>0.0</td>\n",
       "      <td>0.0</td>\n",
       "      <td>13</td>\n",
       "      <td>9</td>\n",
       "      <td>2016</td>\n",
       "    </tr>\n",
       "    <tr>\n",
       "      <th>4</th>\n",
       "      <td>43.68</td>\n",
       "      <td>-79.63</td>\n",
       "      <td>22.1</td>\n",
       "      <td>12.3</td>\n",
       "      <td>17.2</td>\n",
       "      <td>0.0</td>\n",
       "      <td>0.0</td>\n",
       "      <td>14</td>\n",
       "      <td>9</td>\n",
       "      <td>2016</td>\n",
       "    </tr>\n",
       "  </tbody>\n",
       "</table>\n",
       "</div>"
      ],
      "text/plain": [
       "   latitude  longitude  maxtemp  mintemp  meantemp  totalrain  \\\n",
       "0     43.68     -79.63     29.4     18.9      24.2        2.4   \n",
       "1     43.68     -79.63     23.2     14.3      18.8        0.0   \n",
       "2     43.68     -79.63     24.6     11.6      18.1        0.0   \n",
       "3     43.68     -79.63     28.1     14.5      21.3        0.0   \n",
       "4     43.68     -79.63     22.1     12.3      17.2        0.0   \n",
       "\n",
       "   totalprecipitation  day  month  year  \n",
       "0                 2.4   10      9  2016  \n",
       "1                 0.0   11      9  2016  \n",
       "2                 0.0   12      9  2016  \n",
       "3                 0.0   13      9  2016  \n",
       "4                 0.0   14      9  2016  "
      ]
     },
     "execution_count": 74,
     "metadata": {},
     "output_type": "execute_result"
    }
   ],
   "source": [
    "data.head()"
   ]
  },
  {
   "cell_type": "code",
   "execution_count": 68,
   "metadata": {
    "collapsed": false
   },
   "outputs": [
    {
     "data": {
      "text/html": [
       "<div>\n",
       "<style>\n",
       "    .dataframe thead tr:only-child th {\n",
       "        text-align: right;\n",
       "    }\n",
       "\n",
       "    .dataframe thead th {\n",
       "        text-align: left;\n",
       "    }\n",
       "\n",
       "    .dataframe tbody tr th {\n",
       "        vertical-align: top;\n",
       "    }\n",
       "</style>\n",
       "<table border=\"1\" class=\"dataframe\">\n",
       "  <thead>\n",
       "    <tr style=\"text-align: right;\">\n",
       "      <th></th>\n",
       "      <th>maxtemp</th>\n",
       "      <th>mintemp</th>\n",
       "      <th>meantemp</th>\n",
       "      <th>totalrain</th>\n",
       "    </tr>\n",
       "  </thead>\n",
       "  <tbody>\n",
       "    <tr>\n",
       "      <th>0</th>\n",
       "      <td>29.4</td>\n",
       "      <td>18.9</td>\n",
       "      <td>24.2</td>\n",
       "      <td>2.4</td>\n",
       "    </tr>\n",
       "    <tr>\n",
       "      <th>1</th>\n",
       "      <td>23.2</td>\n",
       "      <td>14.3</td>\n",
       "      <td>18.8</td>\n",
       "      <td>0.0</td>\n",
       "    </tr>\n",
       "    <tr>\n",
       "      <th>2</th>\n",
       "      <td>24.6</td>\n",
       "      <td>11.6</td>\n",
       "      <td>18.1</td>\n",
       "      <td>0.0</td>\n",
       "    </tr>\n",
       "    <tr>\n",
       "      <th>3</th>\n",
       "      <td>28.1</td>\n",
       "      <td>14.5</td>\n",
       "      <td>21.3</td>\n",
       "      <td>0.0</td>\n",
       "    </tr>\n",
       "    <tr>\n",
       "      <th>4</th>\n",
       "      <td>22.1</td>\n",
       "      <td>12.3</td>\n",
       "      <td>17.2</td>\n",
       "      <td>0.0</td>\n",
       "    </tr>\n",
       "  </tbody>\n",
       "</table>\n",
       "</div>"
      ],
      "text/plain": [
       "   maxtemp  mintemp  meantemp  totalrain\n",
       "0     29.4     18.9      24.2        2.4\n",
       "1     23.2     14.3      18.8        0.0\n",
       "2     24.6     11.6      18.1        0.0\n",
       "3     28.1     14.5      21.3        0.0\n",
       "4     22.1     12.3      17.2        0.0"
      ]
     },
     "execution_count": 68,
     "metadata": {},
     "output_type": "execute_result"
    }
   ],
   "source": [
    "feature_list = ['maxtemp','mintemp','meantemp','totalrain']\n",
    "feature = pd.DataFrame(data[feature_list])\n",
    "target = data['totalprecipitation']\n",
    "feature.head()"
   ]
  },
  {
   "cell_type": "code",
   "execution_count": 52,
   "metadata": {
    "collapsed": false
   },
   "outputs": [
    {
     "data": {
      "text/plain": [
       "True"
      ]
     },
     "execution_count": 52,
     "metadata": {},
     "output_type": "execute_result"
    }
   ],
   "source": [
    "np.all(np.isfinite(feature))"
   ]
  },
  {
   "cell_type": "code",
   "execution_count": 65,
   "metadata": {
    "collapsed": false
   },
   "outputs": [
    {
     "data": {
      "text/plain": [
       "False"
      ]
     },
     "execution_count": 65,
     "metadata": {},
     "output_type": "execute_result"
    }
   ],
   "source": [
    "np.any(np.isnan(feature))"
   ]
  },
  {
   "cell_type": "code",
   "execution_count": 71,
   "metadata": {
    "collapsed": false
   },
   "outputs": [],
   "source": [
    "from sklearn import linear_model\n",
    "lm = linear_model.LinearRegression()\n",
    "model = lm.fit(feature,target)"
   ]
  },
  {
   "cell_type": "code",
   "execution_count": 76,
   "metadata": {
    "collapsed": false
   },
   "outputs": [
    {
     "name": "stdout",
     "output_type": "stream",
     "text": [
      "[ 2.15503471 -0.1067627   0.0281224  -0.0678251   0.10254292]\n",
      "[2.4, 0.0, 0.0, 0.0, 0.0]\n"
     ]
    }
   ],
   "source": [
    "predictions = lm.predict(feature)\n",
    "print (predictions[0:5])\n",
    "print (target[0:5].tolist())"
   ]
  },
  {
   "cell_type": "code",
   "execution_count": 77,
   "metadata": {
    "collapsed": false
   },
   "outputs": [
    {
     "data": {
      "text/plain": [
       "0.90723064842279388"
      ]
     },
     "execution_count": 77,
     "metadata": {},
     "output_type": "execute_result"
    }
   ],
   "source": [
    "#R^2 score\n",
    "lm.score(feature,target)"
   ]
  },
  {
   "cell_type": "code",
   "execution_count": 78,
   "metadata": {
    "collapsed": false
   },
   "outputs": [
    {
     "data": {
      "text/plain": [
       "array([ 1.78545503,  1.81675254, -3.62925702,  1.01370936])"
      ]
     },
     "execution_count": 78,
     "metadata": {},
     "output_type": "execute_result"
    }
   ],
   "source": [
    "lm.coef_"
   ]
  },
  {
   "cell_type": "code",
   "execution_count": 85,
   "metadata": {
    "collapsed": false
   },
   "outputs": [
    {
     "name": "stdout",
     "output_type": "stream",
     "text": [
      "score:  0.906862915001\n",
      "coef:  [ -3.26647922e-02   3.51408815e-04   1.01166891e+00]\n"
     ]
    }
   ],
   "source": [
    "# interesting negative coefficient with meantemp\n",
    "# try without meantemp\n",
    "feature_list = ['maxtemp','mintemp','totalrain']\n",
    "feature = pd.DataFrame(data[feature_list])\n",
    "lm = linear_model.LinearRegression()\n",
    "model = lm.fit(feature,target)\n",
    "#R^2 score\n",
    "print ('score: ',lm.score(feature,target))\n",
    "print ('coef: ', lm.coef_)"
   ]
  },
  {
   "cell_type": "code",
   "execution_count": 83,
   "metadata": {
    "collapsed": false
   },
   "outputs": [
    {
     "name": "stdout",
     "output_type": "stream",
     "text": [
      "score:  6.1098870929e-05\n",
      "coef:  [ 0.00365368]\n"
     ]
    }
   ],
   "source": [
    "feature_list = ['maxtemp']\n",
    "feature = pd.DataFrame(data[feature_list])\n",
    "lm = linear_model.LinearRegression()\n",
    "model = lm.fit(feature,target)\n",
    "#R^2 score\n",
    "print ('score: ',lm.score(feature,target))\n",
    "print ('coef: ', lm.coef_)"
   ]
  },
  {
   "cell_type": "code",
   "execution_count": 84,
   "metadata": {
    "collapsed": false
   },
   "outputs": [
    {
     "name": "stdout",
     "output_type": "stream",
     "text": [
      "score:  0.00373827389194\n",
      "coef:  [ 0.03254562]\n"
     ]
    }
   ],
   "source": [
    "feature_list = ['mintemp']\n",
    "feature = pd.DataFrame(data[feature_list])\n",
    "lm = linear_model.LinearRegression()\n",
    "model = lm.fit(feature,target)\n",
    "#R^2 score\n",
    "print ('score: ',lm.score(feature,target))\n",
    "print ('coef: ', lm.coef_)"
   ]
  },
  {
   "cell_type": "code",
   "execution_count": 82,
   "metadata": {
    "collapsed": false
   },
   "outputs": [
    {
     "name": "stdout",
     "output_type": "stream",
     "text": [
      "score:  0.0295353819209\n",
      "coef:  [-0.23994238  0.29206923]\n"
     ]
    }
   ],
   "source": [
    "feature_list = ['maxtemp','mintemp']\n",
    "feature = pd.DataFrame(data[feature_list])\n",
    "lm = linear_model.LinearRegression()\n",
    "model = lm.fit(feature,target)\n",
    "#R^2 score\n",
    "print ('score: ',lm.score(feature,target))\n",
    "print ('coef: ', lm.coef_)"
   ]
  },
  {
   "cell_type": "code",
   "execution_count": 86,
   "metadata": {
    "collapsed": false
   },
   "outputs": [
    {
     "name": "stdout",
     "output_type": "stream",
     "text": [
      "score:  0.00111256007465\n",
      "coef:  [ 0.01678888]\n"
     ]
    }
   ],
   "source": [
    "feature_list = ['meantemp']\n",
    "feature = pd.DataFrame(data[feature_list])\n",
    "lm = linear_model.LinearRegression()\n",
    "model = lm.fit(feature,target)\n",
    "#R^2 score\n",
    "print ('score: ',lm.score(feature,target))\n",
    "print ('coef: ', lm.coef_)"
   ]
  },
  {
   "cell_type": "markdown",
   "metadata": {},
   "source": [
    "# Conclution: No correlation with temp."
   ]
  },
  {
   "cell_type": "code",
   "execution_count": null,
   "metadata": {
    "collapsed": true
   },
   "outputs": [],
   "source": []
  }
 ],
 "metadata": {
  "anaconda-cloud": {},
  "kernelspec": {
   "display_name": "Python [conda env:deeplearning]",
   "language": "python",
   "name": "conda-env-deeplearning-py"
  },
  "language_info": {
   "codemirror_mode": {
    "name": "ipython",
    "version": 3
   },
   "file_extension": ".py",
   "mimetype": "text/x-python",
   "name": "python",
   "nbconvert_exporter": "python",
   "pygments_lexer": "ipython3",
   "version": "3.6.1"
  }
 },
 "nbformat": 4,
 "nbformat_minor": 2
}
